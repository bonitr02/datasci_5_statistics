{
  "nbformat": 4,
  "nbformat_minor": 0,
  "metadata": {
    "colab": {
      "provenance": [],
      "collapsed_sections": [
        "GhCPTbri7zn7",
        "veWb_Pg471RE"
      ],
      "authorship_tag": "ABX9TyNRatS3jCD1Pn0QPNzRCvdt",
      "include_colab_link": true
    },
    "kernelspec": {
      "name": "python3",
      "display_name": "Python 3"
    },
    "language_info": {
      "name": "python"
    }
  },
  "cells": [
    {
      "cell_type": "markdown",
      "metadata": {
        "id": "view-in-github",
        "colab_type": "text"
      },
      "source": [
        "<a href=\"https://colab.research.google.com/github/bonitr02/datasci_5_statistics/blob/main/hha507_wk5_assgn.ipynb\" target=\"_parent\"><img src=\"https://colab.research.google.com/assets/colab-badge.svg\" alt=\"Open In Colab\"/></a>"
      ]
    },
    {
      "cell_type": "markdown",
      "source": [
        "# Assignment 5"
      ],
      "metadata": {
        "id": "vS9TB3nn7tFa"
      }
    },
    {
      "cell_type": "markdown",
      "source": [
        "## Import packages"
      ],
      "metadata": {
        "id": "lVCVHnXG7xNx"
      }
    },
    {
      "cell_type": "code",
      "execution_count": 45,
      "metadata": {
        "id": "dNP-jex27LX9"
      },
      "outputs": [],
      "source": [
        "import pandas as pd\n",
        "from scipy.stats import chi2_contingency, ttest_ind\n",
        "import statsmodels.api as sm\n",
        "from statsmodels.formula.api import ols\n",
        "import numpy as np\n",
        "import matplotlib.pyplot as plt\n",
        "import plotly.express as px\n",
        "import statsmodels.api as sm\n",
        "import scipy.stats as stats"
      ]
    },
    {
      "cell_type": "markdown",
      "source": [
        "## Load Dataset\n",
        "\n",
        "Information on prevalence, use and spending by count of select chronic conditions among Original Medicare (or fee-for-service) beneficiaries."
      ],
      "metadata": {
        "id": "Ppx1YQf7-Ulp"
      }
    },
    {
      "cell_type": "code",
      "source": [
        "df = pd.read_csv('/content/mcc2018.csv')\n",
        "len(df)\n",
        "#44976 initial values"
      ],
      "metadata": {
        "colab": {
          "base_uri": "https://localhost:8080/"
        },
        "id": "M2XHL_wt-ixB",
        "outputId": "e9249428-10f4-4977-c75c-5cb451275d7c"
      },
      "execution_count": 31,
      "outputs": [
        {
          "output_type": "execute_result",
          "data": {
            "text/plain": [
              "44976"
            ]
          },
          "metadata": {},
          "execution_count": 31
        }
      ]
    },
    {
      "cell_type": "markdown",
      "source": [
        "### Look for missingness"
      ],
      "metadata": {
        "id": "jcg9l-wc_ERd"
      }
    },
    {
      "cell_type": "code",
      "source": [
        "# Handling whitespace as missing data\n",
        "df.replace(\" \", pd.NA, inplace=True)"
      ],
      "metadata": {
        "id": "RaI-1oDSUyBP"
      },
      "execution_count": 32,
      "outputs": []
    },
    {
      "cell_type": "code",
      "source": [
        "## keep only complete rows\n",
        "df = df.dropna()\n",
        "len(df)\n",
        "#23899 remaining values"
      ],
      "metadata": {
        "colab": {
          "base_uri": "https://localhost:8080/"
        },
        "id": "w7U3-dI4KvaK",
        "outputId": "81d1723f-67c0-460b-d736-879f01efe01f"
      },
      "execution_count": 33,
      "outputs": [
        {
          "output_type": "execute_result",
          "data": {
            "text/plain": [
              "23899"
            ]
          },
          "metadata": {},
          "execution_count": 33
        }
      ]
    },
    {
      "cell_type": "code",
      "source": [
        "df.columns"
      ],
      "metadata": {
        "colab": {
          "base_uri": "https://localhost:8080/"
        },
        "id": "JATFLwzU_UyE",
        "outputId": "0d99cf4d-70cd-4fb8-a19e-82906d60c760"
      },
      "execution_count": 34,
      "outputs": [
        {
          "output_type": "execute_result",
          "data": {
            "text/plain": [
              "Index(['Bene_Geo_Lvl', 'Bene_Geo_Desc', 'Bene_Geo_Cd', 'Bene_Age_Lvl',\n",
              "       'Bene_Demo_Lvl', 'Bene_Demo_Desc', 'Bene_MCC', 'Prvlnc',\n",
              "       'Tot_Mdcr_Stdzd_Pymt_PC', 'Tot_Mdcr_Pymt_PC', 'Hosp_Readmsn_Rate',\n",
              "       'ER_Visits_Per_1000_Benes'],\n",
              "      dtype='object')"
            ]
          },
          "metadata": {},
          "execution_count": 34
        }
      ]
    },
    {
      "cell_type": "code",
      "source": [
        "df.dtypes\n",
        "#"
      ],
      "metadata": {
        "colab": {
          "base_uri": "https://localhost:8080/"
        },
        "id": "OGFa1yqT_Zd9",
        "outputId": "21410f20-c8a0-40e2-e81d-11b0b4646ce3"
      },
      "execution_count": 36,
      "outputs": [
        {
          "output_type": "execute_result",
          "data": {
            "text/plain": [
              "Bene_Geo_Lvl                 object\n",
              "Bene_Geo_Desc                object\n",
              "Bene_Geo_Cd                 float64\n",
              "Bene_Age_Lvl                 object\n",
              "Bene_Demo_Lvl                object\n",
              "Bene_Demo_Desc               object\n",
              "Bene_MCC                     object\n",
              "Prvlnc                      float64\n",
              "Tot_Mdcr_Stdzd_Pymt_PC      float64\n",
              "Tot_Mdcr_Pymt_PC            float64\n",
              "Hosp_Readmsn_Rate           float64\n",
              "ER_Visits_Per_1000_Benes    float64\n",
              "dtype: object"
            ]
          },
          "metadata": {},
          "execution_count": 36
        }
      ]
    },
    {
      "cell_type": "markdown",
      "source": [
        "### Modify column types and remove special characters"
      ],
      "metadata": {
        "id": "Pp7NB_7etZ93"
      }
    },
    {
      "cell_type": "code",
      "source": [
        "df['Bene_Geo_Cd'] = df['Bene_Geo_Cd'].apply(str)\n",
        "df = df.replace(',', '', regex=True)"
      ],
      "metadata": {
        "id": "SBgLX2X3Eh7R"
      },
      "execution_count": 37,
      "outputs": []
    },
    {
      "cell_type": "markdown",
      "source": [
        "## Chi-Square Test\n",
        "\n",
        "Alternative Hypothesis: There is an association between the geographic location of a Medicare beneficiary and the number of chronic conditions they have.\n",
        "\n",
        "Null Hypothesis: There is no association between the geographic location of a Medicare beneficiary and the number of chronic conditions they have."
      ],
      "metadata": {
        "id": "GhCPTbri7zn7"
      }
    },
    {
      "cell_type": "code",
      "source": [
        "contingency_table = pd.crosstab(df['Bene_Geo_Desc'], df['Bene_MCC'])\n",
        "print(contingency_table)\n",
        "# cross table"
      ],
      "metadata": {
        "colab": {
          "base_uri": "https://localhost:8080/"
        },
        "id": "ah5wF6XgF09K",
        "outputId": "ee46f4d3-a6c0-4fa7-f588-8e604220d5dd"
      },
      "execution_count": 35,
      "outputs": [
        {
          "output_type": "stream",
          "name": "stdout",
          "text": [
            "Bene_MCC              0 to 1  2 to 3  4 to 5  6+\n",
            "Bene_Geo_Desc                                   \n",
            "Alabama                   24      21      22  27\n",
            "Alabama : Autauga          0       1       2   3\n",
            "Alabama : Baldwin          0       3       3   3\n",
            "Alabama : Barbour          3       0       1   3\n",
            "Alabama : Bibb             3       1       0   3\n",
            "...                      ...     ...     ...  ..\n",
            "Wyoming : Sweetwater       3       1       2   3\n",
            "Wyoming : Teton            0       0       1   1\n",
            "Wyoming : Uinta            3       1       0   2\n",
            "Wyoming : Washakie         1       1       0   2\n",
            "Wyoming : Weston           0       0       0   1\n",
            "\n",
            "[3101 rows x 4 columns]\n"
          ]
        }
      ]
    },
    {
      "cell_type": "code",
      "source": [
        "chi2, p, _, _ = chi2_contingency(contingency_table)\n",
        "print(f\"Chi2 value: {chi2}\")\n",
        "print(f\"P-value: {p}\")"
      ],
      "metadata": {
        "colab": {
          "base_uri": "https://localhost:8080/"
        },
        "id": "8RE-rTD6GKFJ",
        "outputId": "36b23614-8e2c-4ac1-890c-570f81ecf060"
      },
      "execution_count": 36,
      "outputs": [
        {
          "output_type": "stream",
          "name": "stdout",
          "text": [
            "Chi2 value: 7078.3446790780745\n",
            "P-value: 1.0\n"
          ]
        }
      ]
    },
    {
      "cell_type": "markdown",
      "source": [
        "Chi-squared results:\n",
        "Chi2 value is 7078, indicating that there is a  positive relationship\n",
        "P value is 1.0, which indicates that the chi2 value is not statistically significant\n",
        "\n",
        "Summary: Do not reject the null hypothesis"
      ],
      "metadata": {
        "id": "d_TvrbWBJAP2"
      }
    },
    {
      "cell_type": "markdown",
      "source": [
        "## T-Test\n",
        "Alternative hypothesis: Hospital Readmission rate is different between beneficiaries under 65 and over 65 years old\n",
        "\n",
        "Null hypothesis: Hospital Readmission rate is not different between beneficiaries under 65 and over 65 years old"
      ],
      "metadata": {
        "id": "veWb_Pg471RE"
      }
    },
    {
      "cell_type": "code",
      "source": [
        "df.drop(df[df['Bene_Age_Lvl'] == 'All'].index, inplace = True)"
      ],
      "metadata": {
        "id": "uz6NlX9nUmid"
      },
      "execution_count": 56,
      "outputs": []
    },
    {
      "cell_type": "code",
      "source": [
        "df.to_csv('/content/mcc2018_geo.csv', index=False)"
      ],
      "metadata": {
        "id": "lXR8-YhHR40B"
      },
      "execution_count": 57,
      "outputs": []
    },
    {
      "cell_type": "code",
      "source": [
        "df2 = pd.read_csv('/content/mcc2018_geo.csv')"
      ],
      "metadata": {
        "id": "HfNtuAipV2Dd"
      },
      "execution_count": 58,
      "outputs": []
    },
    {
      "cell_type": "code",
      "source": [
        "df2['Bene_Age_Lvl']"
      ],
      "metadata": {
        "colab": {
          "base_uri": "https://localhost:8080/"
        },
        "id": "TqNmGLCgStez",
        "outputId": "1de62ecf-dca7-4b8c-cd84-9a6e4de09300"
      },
      "execution_count": 60,
      "outputs": [
        {
          "output_type": "execute_result",
          "data": {
            "text/plain": [
              "0        65+\n",
              "1        65+\n",
              "2        65+\n",
              "3        65+\n",
              "4        65+\n",
              "        ... \n",
              "14615    65+\n",
              "14616    65+\n",
              "14617    65+\n",
              "14618    65+\n",
              "14619    65+\n",
              "Name: Bene_Age_Lvl, Length: 14620, dtype: object"
            ]
          },
          "metadata": {},
          "execution_count": 60
        }
      ]
    },
    {
      "cell_type": "code",
      "source": [
        "# Split the data into two groups: under65 and 65andover\n",
        "under65 = df2[df2['Bene_Age_Lvl'] == '<65']['Hosp_Readmsn_Rate']\n",
        "under65_mean = under65.mean()\n",
        "under65_mean"
      ],
      "metadata": {
        "colab": {
          "base_uri": "https://localhost:8080/"
        },
        "id": "cfNkuyU9Py4_",
        "outputId": "04627d5e-1912-448c-8094-9121f362c70b"
      },
      "execution_count": 64,
      "outputs": [
        {
          "output_type": "execute_result",
          "data": {
            "text/plain": [
              "0.1502020979020979"
            ]
          },
          "metadata": {},
          "execution_count": 64
        }
      ]
    },
    {
      "cell_type": "code",
      "source": [
        "# Split the data into two groups: under65 and over65\n",
        "over65 = df2[df2['Bene_Age_Lvl'] == '65+']['Hosp_Readmsn_Rate']\n",
        "over65_mean = over65.mean()\n",
        "over65_mean"
      ],
      "metadata": {
        "colab": {
          "base_uri": "https://localhost:8080/"
        },
        "id": "ZB-5wlYuNkVZ",
        "outputId": "7c1178e1-7852-486c-a83f-158b14d2454f"
      },
      "execution_count": 63,
      "outputs": [
        {
          "output_type": "execute_result",
          "data": {
            "text/plain": [
              "0.11634035430665852"
            ]
          },
          "metadata": {},
          "execution_count": 63
        }
      ]
    },
    {
      "cell_type": "code",
      "source": [
        "t_stat, p_val = ttest_ind(under65, over65, equal_var=False)"
      ],
      "metadata": {
        "id": "slKesqhuJ1vP"
      },
      "execution_count": 65,
      "outputs": []
    },
    {
      "cell_type": "code",
      "source": [
        "print(f\"T-statistic: {t_stat}\")\n",
        "print(f\"P-value: {p_val}\")"
      ],
      "metadata": {
        "colab": {
          "base_uri": "https://localhost:8080/"
        },
        "id": "aPJ4nWLgPywM",
        "outputId": "8ec9e25b-7918-4eb0-cdbb-fbe4ad85a100"
      },
      "execution_count": 66,
      "outputs": [
        {
          "output_type": "stream",
          "name": "stdout",
          "text": [
            "T-statistic: 19.545598814363498\n",
            "P-value: 1.2919795803333869e-83\n"
          ]
        }
      ]
    },
    {
      "cell_type": "markdown",
      "source": [
        "T-test result is 19.55 indicating a substantial difference between the groups\n",
        "P-value result is 1.29, indicating a statistially non-significant difference\n",
        "\n",
        "Summary: Do not reject null hypothesis"
      ],
      "metadata": {
        "id": "tZAWfNA0YQKw"
      }
    },
    {
      "cell_type": "markdown",
      "source": [
        "## ANOVA\n",
        "Alternative Hypothesis: Total Medicare Standardized Per Capita Spending will differ across Demographic groups (Race, Sex, Dual Medicare, All groups).\n",
        "\n",
        "Null Hypothesis: Total Medicare Standardized Per Capita Spending will not differ across Demographic groups (Race, Sex, Dual Medicare, All groups)."
      ],
      "metadata": {
        "id": "kRv58jPL71KN"
      }
    },
    {
      "cell_type": "code",
      "source": [
        "groups = df.groupby('Bene_Demo_Lvl')['Tot_Mdcr_Stdzd_Pymt_PC'].mean()\n",
        "groups"
      ],
      "metadata": {
        "colab": {
          "base_uri": "https://localhost:8080/"
        },
        "id": "PTCw-JM5dAlK",
        "outputId": "81401858-3e8a-4557-8d8a-c366bb12e858"
      },
      "execution_count": 39,
      "outputs": [
        {
          "output_type": "execute_result",
          "data": {
            "text/plain": [
              "Bene_Demo_Lvl\n",
              "All            16212.549501\n",
              "Dual Status    14047.744118\n",
              "Race           15663.576301\n",
              "Sex            13527.843263\n",
              "Name: Tot_Mdcr_Stdzd_Pymt_PC, dtype: float64"
            ]
          },
          "metadata": {},
          "execution_count": 39
        }
      ]
    },
    {
      "cell_type": "code",
      "source": [
        "# this is our objective test for distribution\n",
        "stats.shapiro(df['Tot_Mdcr_Stdzd_Pymt_PC'])\n",
        "#p value is 0, stat is 0.889"
      ],
      "metadata": {
        "colab": {
          "base_uri": "https://localhost:8080/"
        },
        "id": "wYDRn27Vtz1y",
        "outputId": "8cf20551-0941-4eec-dded-faef3f0befcb"
      },
      "execution_count": 61,
      "outputs": [
        {
          "output_type": "stream",
          "name": "stderr",
          "text": [
            "/usr/local/lib/python3.10/dist-packages/scipy/stats/_morestats.py:1882: UserWarning:\n",
            "\n",
            "p-value may not be accurate for N > 5000.\n",
            "\n"
          ]
        },
        {
          "output_type": "execute_result",
          "data": {
            "text/plain": [
              "ShapiroResult(statistic=0.8891008496284485, pvalue=0.0)"
            ]
          },
          "metadata": {},
          "execution_count": 61
        }
      ]
    },
    {
      "cell_type": "code",
      "source": [
        "spending = ols('Tot_Mdcr_Stdzd_Pymt_PC ~ C(Bene_Demo_Lvl) ', data=df).fit()"
      ],
      "metadata": {
        "id": "gO5EBqPmc7yE"
      },
      "execution_count": 10,
      "outputs": []
    },
    {
      "cell_type": "code",
      "source": [
        "# Performing the one-way ANOVA\n",
        "anova_table = sm.stats.anova_lm(spending, typ=2)\n",
        "print(anova_table)"
      ],
      "metadata": {
        "colab": {
          "base_uri": "https://localhost:8080/"
        },
        "id": "I7umGX1pc-te",
        "outputId": "a89e8c19-81ea-4e3c-86dc-bf58f05bafda"
      },
      "execution_count": 14,
      "outputs": [
        {
          "output_type": "stream",
          "name": "stdout",
          "text": [
            "                        sum_sq       df          F        PR(>F)\n",
            "C(Bene_Demo_Lvl)  1.269621e+10      3.0  27.184791  1.524099e-17\n",
            "Residual          3.719923e+12  23895.0        NaN           NaN\n"
          ]
        }
      ]
    },
    {
      "cell_type": "markdown",
      "source": [
        "P-value is 1.52e-17, indicating statistical significance.\n",
        "\n",
        "Summary: Accept the alternative hypothesis and reject the null hypothesis"
      ],
      "metadata": {
        "id": "55N_3c4Vg0cv"
      }
    },
    {
      "cell_type": "markdown",
      "source": [
        "## Regression Analysis\n",
        "\n",
        "Alternative Hypothesis: The amount of stress predicts a patient's quality of sleep\n",
        "\n",
        "Null Hypothesis: The amount of stress does not predict a patient's quality of sleep"
      ],
      "metadata": {
        "id": "yAMt5HEu708u"
      }
    },
    {
      "cell_type": "code",
      "source": [
        "sleep = pd.read_csv('/content/Sleep_health_and_lifestyle_dataset.csv')"
      ],
      "metadata": {
        "id": "WPL6m_Jekum3"
      },
      "execution_count": 18,
      "outputs": []
    },
    {
      "cell_type": "code",
      "source": [
        "sleep.columns"
      ],
      "metadata": {
        "colab": {
          "base_uri": "https://localhost:8080/"
        },
        "id": "r55FqIZyk0N2",
        "outputId": "0cff1dbf-ce2d-4112-ef8a-0aeeff4d1967"
      },
      "execution_count": 20,
      "outputs": [
        {
          "output_type": "execute_result",
          "data": {
            "text/plain": [
              "Index(['Person ID', 'Gender', 'Age', 'Occupation', 'Sleep Duration',\n",
              "       'Quality of Sleep', 'Physical Activity Level', 'Stress Level',\n",
              "       'BMI Category', 'Blood Pressure', 'Heart Rate', 'Daily Steps',\n",
              "       'Sleep Disorder'],\n",
              "      dtype='object')"
            ]
          },
          "metadata": {},
          "execution_count": 20
        }
      ]
    },
    {
      "cell_type": "code",
      "source": [
        "sleep.dtypes"
      ],
      "metadata": {
        "colab": {
          "base_uri": "https://localhost:8080/"
        },
        "id": "jJU8tWEuk50b",
        "outputId": "7c7d54ec-fb3c-42b6-8912-491ffd4a22f1"
      },
      "execution_count": 21,
      "outputs": [
        {
          "output_type": "execute_result",
          "data": {
            "text/plain": [
              "Person ID                    int64\n",
              "Gender                      object\n",
              "Age                          int64\n",
              "Occupation                  object\n",
              "Sleep Duration             float64\n",
              "Quality of Sleep             int64\n",
              "Physical Activity Level      int64\n",
              "Stress Level                 int64\n",
              "BMI Category                object\n",
              "Blood Pressure              object\n",
              "Heart Rate                   int64\n",
              "Daily Steps                  int64\n",
              "Sleep Disorder              object\n",
              "dtype: object"
            ]
          },
          "metadata": {},
          "execution_count": 21
        }
      ]
    },
    {
      "cell_type": "code",
      "source": [
        "# Perform regression\n",
        "slope, intercept, r_value, p_value, std_err = stats.linregress(sleep['Stress Level'], sleep['Quality of Sleep'])"
      ],
      "metadata": {
        "id": "FS_03gMrqguc"
      },
      "execution_count": 53,
      "outputs": []
    },
    {
      "cell_type": "code",
      "source": [
        "# Display results\n",
        "print(f\"Slope (Coefficient for BMI): {slope:.2f}\")\n",
        "print(f\"Intercept: {intercept:.2f}\")\n",
        "print(f\"R-squared value: {r_value**2:.2f}\")\n",
        "print(f\"P-value: {p_value:.5f}\")\n",
        "print(f\"Standard Error: {std_err:.5f}\")"
      ],
      "metadata": {
        "colab": {
          "base_uri": "https://localhost:8080/"
        },
        "id": "G4E9jgsjqwQg",
        "outputId": "b0ea7c8c-ac46-48d3-9f1f-6d26cdc8e716"
      },
      "execution_count": 54,
      "outputs": [
        {
          "output_type": "stream",
          "name": "stdout",
          "text": [
            "Slope (Coefficient for BMI): -0.61\n",
            "Intercept: 10.58\n",
            "R-squared value: 0.81\n",
            "P-value: 0.00000\n",
            "Standard Error: 0.01533\n"
          ]
        }
      ]
    },
    {
      "cell_type": "code",
      "source": [
        "plt.scatter(sleep['Stress Level'], sleep['Quality of Sleep'], color='green', label='Data points')\n",
        "plt.plot(sleep['Stress Level'], intercept + slope * sleep['Stress Level'], color='blue', label='Regression line')\n",
        "plt.title('Stress Level vs Quality of Sleep')\n",
        "plt.xlabel('Stress Level')\n",
        "plt.ylabel('Quality of Sleep')\n",
        "plt.legend()\n",
        "plt.show()\n",
        "\n",
        "# line slopes downward from left to right, indicating that as stress level increases, quality of sleep decreases\n"
      ],
      "metadata": {
        "colab": {
          "base_uri": "https://localhost:8080/",
          "height": 472
        },
        "id": "5emtu597rB5v",
        "outputId": "19e54ed4-5fd8-42a4-c51b-abc9006f08fe"
      },
      "execution_count": 58,
      "outputs": [
        {
          "output_type": "display_data",
          "data": {
            "text/plain": [
              "<Figure size 640x480 with 1 Axes>"
            ],
            "image/png": "[encoded data removed]"
          },
          "metadata": {}
        }
      ]
    },
    {
      "cell_type": "code",
      "source": [
        "# Another regression model\n",
        "fig = px.scatter(\n",
        "    sleep, x='Stress Level', y='Quality of Sleep', opacity=0.65,\n",
        "    trendline='ols', trendline_color_override='magenta'\n",
        ")\n",
        "fig.show()"
      ],
      "metadata": {
        "colab": {
          "base_uri": "https://localhost:8080/",
          "height": 542
        },
        "id": "2EUfvWOJiDhO",
        "outputId": "e5e623b5-43d4-4c9d-b681-f61bfda7e3ee"
      },
      "execution_count": 29,
      "outputs": [
        {
          "output_type": "display_data",
          "data": {
            "text/html": [
              "<html>\n",
              "<head><meta charset=\"utf-8\" /></head>\n",
              "<body>\n",
              "    <div>            <script src=\"https://cdnjs.cloudflare.com/ajax/libs/mathjax/2.7.5/MathJax.js?config=TeX-AMS-MML_SVG\"></script><script type=\"text/javascript\">if (window.MathJax && window.MathJax.Hub && window.MathJax.Hub.Config) {window.MathJax.Hub.Config({SVG: {font: \"STIX-Web\"}});}</script>                <script type=\"text/javascript\">window.PlotlyConfig = {MathJaxConfig: 'local'};</script>\n",
              "        <script charset=\"utf-8\" src=\"https://cdn.plot.ly/plotly-2.24.1.min.js\"></script>                <div id=\"c264b657-7d50-4740-a114-e4b020dbe897\" class=\"plotly-graph-div\" style=\"height:525px; width:100%;\"></div>            <script type=\"text/javascript\">                                    window.PLOTLYENV=window.PLOTLYENV || {};                                    if (document.getElementById(\"c264b657-7d50-4740-a114-e4b020dbe897\")) {                    Plotly.newPlot(                        \"c264b657-7d50-4740-a114-e4b020dbe897\",                        [{\"hovertemplate\":\"Stress Level=%{x}\\u003cbr\\u003eQuality of Sleep=%{y}\\u003cextra\\u003e\\u003c\\u002fextra\\u003e\",\"legendgroup\":\"\",\"marker\":{\"color\":\"#636efa\",\"opacity\":0.65,\"symbol\":\"circle\"},\"mode\":\"markers\",\"name\":\"\",\"orientation\":\"v\",\"showlegend\":false,\"x\":[6,8,8,8,8,8,7,6,6,6,8,6,8,8,8,8,7,8,7,6,6,6,6,6,6,6,6,6,6,6,7,7,4,8,6,8,8,6,6,6,6,6,6,6,6,6,6,6,6,6,3,3,8,6,8,8,6,8,8,6,8,8,8,8,8,8,6,8,6,6,8,8,8,8,8,8,8,8,8,8,8,8,5,5,5,4,4,4,4,4,4,4,5,5,4,4,4,4,4,4,4,4,4,7,4,7,6,4,4,5,4,5,4,5,4,4,4,4,4,4,4,4,4,4,4,4,5,4,5,5,4,5,5,4,5,5,4,5,4,5,4,5,4,4,5,5,5,7,6,3,3,5,5,5,5,5,5,5,5,5,5,6,6,5,5,5,6,6,6,5,5,5,5,5,5,5,5,7,5,5,5,5,5,5,7,7,4,7,4,7,4,7,7,7,7,7,7,7,7,7,7,5,5,7,4,5,5,5,5,5,5,5,5,5,5,5,5,5,5,7,4,7,7,7,4,7,4,7,4,7,4,7,4,7,4,7,7,4,7,7,4,7,7,4,7,4,7,7,7,7,6,6,4,4,4,4,4,4,4,4,4,4,4,5,5,8,5,8,8,8,8,8,8,8,8,8,3,3,8,3,8,8,8,8,8,8,8,8,8,8,8,8,8,8,8,8,8,8,3,3,3,3,6,8,8,8,7,7,7,7,7,7,3,3,3,3,3,3,3,3,3,3,3,3,3,3,3,3,3,3,3,3,3,3,3,3,3,3,3,4,4,3,3,3,3,3,3,3,3,3,3,3,3,3,3,3,3,3,3,3,3,3,3,3,3,3,3,3,3,3,3,3,3,3],\"xaxis\":\"x\",\"y\":[6,6,6,4,4,4,6,7,7,7,6,7,6,6,6,6,5,6,5,7,7,7,7,7,7,7,7,7,7,7,5,5,8,6,7,6,6,7,7,7,7,7,7,7,7,7,7,7,7,7,8,8,6,7,6,6,7,6,6,7,6,6,6,6,6,6,8,6,6,6,6,6,6,6,6,6,6,6,6,6,4,4,7,7,8,8,8,8,8,8,8,8,8,7,8,8,8,8,8,8,8,8,8,5,8,5,6,8,8,8,8,8,8,8,8,8,8,8,8,8,8,8,8,8,8,8,8,8,8,8,8,8,8,8,8,8,8,8,8,8,8,8,8,8,8,7,8,5,7,9,9,8,8,8,8,8,8,8,8,8,8,8,8,8,8,8,8,7,7,8,8,8,8,8,8,8,8,6,8,8,8,8,8,8,6,6,7,6,7,6,7,6,6,6,6,6,6,6,6,6,6,8,8,6,8,8,8,8,8,8,8,8,8,8,8,8,8,8,8,6,7,6,6,6,7,6,7,6,7,6,7,6,7,6,7,6,6,7,6,6,7,6,6,7,6,7,6,7,6,6,7,7,7,7,7,7,7,7,7,7,7,7,7,7,7,6,7,6,6,6,6,6,6,6,6,6,9,9,6,9,6,6,6,6,6,6,6,6,6,6,6,6,6,6,6,6,6,6,9,9,9,9,7,6,6,6,7,7,7,7,7,7,9,9,9,9,9,9,9,9,9,9,9,9,9,9,9,9,9,9,9,9,9,9,9,9,9,9,9,9,9,9,9,9,9,9,9,9,9,9,9,9,9,9,9,9,9,9,9,9,9,9,9,9,9,9,9,9,9,9,9,9,9,9],\"yaxis\":\"y\",\"type\":\"scatter\"},{\"hovertemplate\":\"\\u003cb\\u003eOLS trendline\\u003c\\u002fb\\u003e\\u003cbr\\u003eQuality of Sleep = -0.606227 * Stress Level + 10.5774\\u003cbr\\u003eR\\u003csup\\u003e2\\u003c\\u002fsup\\u003e=0.807755\\u003cbr\\u003e\\u003cbr\\u003eStress Level=%{x}\\u003cbr\\u003eQuality of Sleep=%{y} \\u003cb\\u003e(trend)\\u003c\\u002fb\\u003e\\u003cextra\\u003e\\u003c\\u002fextra\\u003e\",\"legendgroup\":\"\",\"line\":{\"color\":\"magenta\"},\"marker\":{\"color\":\"#636efa\",\"symbol\":\"circle\"},\"mode\":\"lines\",\"name\":\"\",\"showlegend\":false,\"x\":[3,3,3,3,3,3,3,3,3,3,3,3,3,3,3,3,3,3,3,3,3,3,3,3,3,3,3,3,3,3,3,3,3,3,3,3,3,3,3,3,3,3,3,3,3,3,3,3,3,3,3,3,3,3,3,3,3,3,3,3,3,3,3,3,3,3,3,3,3,3,3,4,4,4,4,4,4,4,4,4,4,4,4,4,4,4,4,4,4,4,4,4,4,4,4,4,4,4,4,4,4,4,4,4,4,4,4,4,4,4,4,4,4,4,4,4,4,4,4,4,4,4,4,4,4,4,4,4,4,4,4,4,4,4,4,4,4,4,4,4,4,5,5,5,5,5,5,5,5,5,5,5,5,5,5,5,5,5,5,5,5,5,5,5,5,5,5,5,5,5,5,5,5,5,5,5,5,5,5,5,5,5,5,5,5,5,5,5,5,5,5,5,5,5,5,5,5,5,5,5,5,5,5,5,5,5,5,5,6,6,6,6,6,6,6,6,6,6,6,6,6,6,6,6,6,6,6,6,6,6,6,6,6,6,6,6,6,6,6,6,6,6,6,6,6,6,6,6,6,6,6,6,6,6,7,7,7,7,7,7,7,7,7,7,7,7,7,7,7,7,7,7,7,7,7,7,7,7,7,7,7,7,7,7,7,7,7,7,7,7,7,7,7,7,7,7,7,7,7,7,7,7,7,7,8,8,8,8,8,8,8,8,8,8,8,8,8,8,8,8,8,8,8,8,8,8,8,8,8,8,8,8,8,8,8,8,8,8,8,8,8,8,8,8,8,8,8,8,8,8,8,8,8,8,8,8,8,8,8,8,8,8,8,8,8,8,8,8,8,8,8,8,8,8],\"xaxis\":\"x\",\"y\":[8.758702798189793,8.758702798189793,8.758702798189793,8.758702798189793,8.758702798189793,8.758702798189793,8.758702798189793,8.758702798189793,8.758702798189793,8.758702798189793,8.758702798189793,8.758702798189793,8.758702798189793,8.758702798189793,8.758702798189793,8.758702798189793,8.758702798189793,8.758702798189793,8.758702798189793,8.758702798189793,8.758702798189793,8.758702798189793,8.758702798189793,8.758702798189793,8.758702798189793,8.758702798189793,8.758702798189793,8.758702798189793,8.758702798189793,8.758702798189793,8.758702798189793,8.758702798189793,8.758702798189793,8.758702798189793,8.758702798189793,8.758702798189793,8.758702798189793,8.758702798189793,8.758702798189793,8.758702798189793,8.758702798189793,8.758702798189793,8.758702798189793,8.758702798189793,8.758702798189793,8.758702798189793,8.758702798189793,8.758702798189793,8.758702798189793,8.758702798189793,8.758702798189793,8.758702798189793,8.758702798189793,8.758702798189793,8.758702798189793,8.758702798189793,8.758702798189793,8.758702798189793,8.758702798189793,8.758702798189793,8.758702798189793,8.758702798189793,8.758702798189793,8.758702798189793,8.758702798189793,8.758702798189793,8.758702798189793,8.758702798189793,8.758702798189793,8.758702798189793,8.758702798189793,8.152475391773894,8.152475391773894,8.152475391773894,8.152475391773894,8.152475391773894,8.152475391773894,8.152475391773894,8.152475391773894,8.152475391773894,8.152475391773894,8.152475391773894,8.152475391773894,8.152475391773894,8.152475391773894,8.152475391773894,8.152475391773894,8.152475391773894,8.152475391773894,8.152475391773894,8.152475391773894,8.152475391773894,8.152475391773894,8.152475391773894,8.152475391773894,8.152475391773894,8.152475391773894,8.152475391773894,8.152475391773894,8.152475391773894,8.152475391773894,8.152475391773894,8.152475391773894,8.152475391773894,8.152475391773894,8.152475391773894,8.152475391773894,8.152475391773894,8.152475391773894,8.152475391773894,8.152475391773894,8.152475391773894,8.152475391773894,8.152475391773894,8.152475391773894,8.152475391773894,8.152475391773894,8.152475391773894,8.152475391773894,8.152475391773894,8.152475391773894,8.152475391773894,8.152475391773894,8.152475391773894,8.152475391773894,8.152475391773894,8.152475391773894,8.152475391773894,8.152475391773894,8.152475391773894,8.152475391773894,8.152475391773894,8.152475391773894,8.152475391773894,8.152475391773894,8.152475391773894,8.152475391773894,8.152475391773894,8.152475391773894,8.152475391773894,8.152475391773894,7.546247985357994,7.546247985357994,7.546247985357994,7.546247985357994,7.546247985357994,7.546247985357994,7.546247985357994,7.546247985357994,7.546247985357994,7.546247985357994,7.546247985357994,7.546247985357994,7.546247985357994,7.546247985357994,7.546247985357994,7.546247985357994,7.546247985357994,7.546247985357994,7.546247985357994,7.546247985357994,7.546247985357994,7.546247985357994,7.546247985357994,7.546247985357994,7.546247985357994,7.546247985357994,7.546247985357994,7.546247985357994,7.546247985357994,7.546247985357994,7.546247985357994,7.546247985357994,7.546247985357994,7.546247985357994,7.546247985357994,7.546247985357994,7.546247985357994,7.546247985357994,7.546247985357994,7.546247985357994,7.546247985357994,7.546247985357994,7.546247985357994,7.546247985357994,7.546247985357994,7.546247985357994,7.546247985357994,7.546247985357994,7.546247985357994,7.546247985357994,7.546247985357994,7.546247985357994,7.546247985357994,7.546247985357994,7.546247985357994,7.546247985357994,7.546247985357994,7.546247985357994,7.546247985357994,7.546247985357994,7.546247985357994,7.546247985357994,7.546247985357994,7.546247985357994,7.546247985357994,7.546247985357994,7.546247985357994,6.940020578942093,6.940020578942093,6.940020578942093,6.940020578942093,6.940020578942093,6.940020578942093,6.940020578942093,6.940020578942093,6.940020578942093,6.940020578942093,6.940020578942093,6.940020578942093,6.940020578942093,6.940020578942093,6.940020578942093,6.940020578942093,6.940020578942093,6.940020578942093,6.940020578942093,6.940020578942093,6.940020578942093,6.940020578942093,6.940020578942093,6.940020578942093,6.940020578942093,6.940020578942093,6.940020578942093,6.940020578942093,6.940020578942093,6.940020578942093,6.940020578942093,6.940020578942093,6.940020578942093,6.940020578942093,6.940020578942093,6.940020578942093,6.940020578942093,6.940020578942093,6.940020578942093,6.940020578942093,6.940020578942093,6.940020578942093,6.940020578942093,6.940020578942093,6.940020578942093,6.940020578942093,6.333793172526193,6.333793172526193,6.333793172526193,6.333793172526193,6.333793172526193,6.333793172526193,6.333793172526193,6.333793172526193,6.333793172526193,6.333793172526193,6.333793172526193,6.333793172526193,6.333793172526193,6.333793172526193,6.333793172526193,6.333793172526193,6.333793172526193,6.333793172526193,6.333793172526193,6.333793172526193,6.333793172526193,6.333793172526193,6.333793172526193,6.333793172526193,6.333793172526193,6.333793172526193,6.333793172526193,6.333793172526193,6.333793172526193,6.333793172526193,6.333793172526193,6.333793172526193,6.333793172526193,6.333793172526193,6.333793172526193,6.333793172526193,6.333793172526193,6.333793172526193,6.333793172526193,6.333793172526193,6.333793172526193,6.333793172526193,6.333793172526193,6.333793172526193,6.333793172526193,6.333793172526193,6.333793172526193,6.333793172526193,6.333793172526193,6.333793172526193,5.727565766110294,5.727565766110294,5.727565766110294,5.727565766110294,5.727565766110294,5.727565766110294,5.727565766110294,5.727565766110294,5.727565766110294,5.727565766110294,5.727565766110294,5.727565766110294,5.727565766110294,5.727565766110294,5.727565766110294,5.727565766110294,5.727565766110294,5.727565766110294,5.727565766110294,5.727565766110294,5.727565766110294,5.727565766110294,5.727565766110294,5.727565766110294,5.727565766110294,5.727565766110294,5.727565766110294,5.727565766110294,5.727565766110294,5.727565766110294,5.727565766110294,5.727565766110294,5.727565766110294,5.727565766110294,5.727565766110294,5.727565766110294,5.727565766110294,5.727565766110294,5.727565766110294,5.727565766110294,5.727565766110294,5.727565766110294,5.727565766110294,5.727565766110294,5.727565766110294,5.727565766110294,5.727565766110294,5.727565766110294,5.727565766110294,5.727565766110294,5.727565766110294,5.727565766110294,5.727565766110294,5.727565766110294,5.727565766110294,5.727565766110294,5.727565766110294,5.727565766110294,5.727565766110294,5.727565766110294,5.727565766110294,5.727565766110294,5.727565766110294,5.727565766110294,5.727565766110294,5.727565766110294,5.727565766110294,5.727565766110294,5.727565766110294,5.727565766110294],\"yaxis\":\"y\",\"type\":\"scatter\"}],                        {\"template\":{\"data\":{\"histogram2dcontour\":[{\"type\":\"histogram2dcontour\",\"colorbar\":{\"outlinewidth\":0,\"ticks\":\"\"},\"colorscale\":[[0.0,\"#0d0887\"],[0.1111111111111111,\"#46039f\"],[0.2222222222222222,\"#7201a8\"],[0.3333333333333333,\"#9c179e\"],[0.4444444444444444,\"#bd3786\"],[0.5555555555555556,\"#d8576b\"],[0.6666666666666666,\"#ed7953\"],[0.7777777777777778,\"#fb9f3a\"],[0.8888888888888888,\"#fdca26\"],[1.0,\"#f0f921\"]]}],\"choropleth\":[{\"type\":\"choropleth\",\"colorbar\":{\"outlinewidth\":0,\"ticks\":\"\"}}],\"histogram2d\":[{\"type\":\"histogram2d\",\"colorbar\":{\"outlinewidth\":0,\"ticks\":\"\"},\"colorscale\":[[0.0,\"#0d0887\"],[0.1111111111111111,\"#46039f\"],[0.2222222222222222,\"#7201a8\"],[0.3333333333333333,\"#9c179e\"],[0.4444444444444444,\"#bd3786\"],[0.5555555555555556,\"#d8576b\"],[0.6666666666666666,\"#ed7953\"],[0.7777777777777778,\"#fb9f3a\"],[0.8888888888888888,\"#fdca26\"],[1.0,\"#f0f921\"]]}],\"heatmap\":[{\"type\":\"heatmap\",\"colorbar\":{\"outlinewidth\":0,\"ticks\":\"\"},\"colorscale\":[[0.0,\"#0d0887\"],[0.1111111111111111,\"#46039f\"],[0.2222222222222222,\"#7201a8\"],[0.3333333333333333,\"#9c179e\"],[0.4444444444444444,\"#bd3786\"],[0.5555555555555556,\"#d8576b\"],[0.6666666666666666,\"#ed7953\"],[0.7777777777777778,\"#fb9f3a\"],[0.8888888888888888,\"#fdca26\"],[1.0,\"#f0f921\"]]}],\"heatmapgl\":[{\"type\":\"heatmapgl\",\"colorbar\":{\"outlinewidth\":0,\"ticks\":\"\"},\"colorscale\":[[0.0,\"#0d0887\"],[0.1111111111111111,\"#46039f\"],[0.2222222222222222,\"#7201a8\"],[0.3333333333333333,\"#9c179e\"],[0.4444444444444444,\"#bd3786\"],[0.5555555555555556,\"#d8576b\"],[0.6666666666666666,\"#ed7953\"],[0.7777777777777778,\"#fb9f3a\"],[0.8888888888888888,\"#fdca26\"],[1.0,\"#f0f921\"]]}],\"contourcarpet\":[{\"type\":\"contourcarpet\",\"colorbar\":{\"outlinewidth\":0,\"ticks\":\"\"}}],\"contour\":[{\"type\":\"contour\",\"colorbar\":{\"outlinewidth\":0,\"ticks\":\"\"},\"colorscale\":[[0.0,\"#0d0887\"],[0.1111111111111111,\"#46039f\"],[0.2222222222222222,\"#7201a8\"],[0.3333333333333333,\"#9c179e\"],[0.4444444444444444,\"#bd3786\"],[0.5555555555555556,\"#d8576b\"],[0.6666666666666666,\"#ed7953\"],[0.7777777777777778,\"#fb9f3a\"],[0.8888888888888888,\"#fdca26\"],[1.0,\"#f0f921\"]]}],\"surface\":[{\"type\":\"surface\",\"colorbar\":{\"outlinewidth\":0,\"ticks\":\"\"},\"colorscale\":[[0.0,\"#0d0887\"],[0.1111111111111111,\"#46039f\"],[0.2222222222222222,\"#7201a8\"],[0.3333333333333333,\"#9c179e\"],[0.4444444444444444,\"#bd3786\"],[0.5555555555555556,\"#d8576b\"],[0.6666666666666666,\"#ed7953\"],[0.7777777777777778,\"#fb9f3a\"],[0.8888888888888888,\"#fdca26\"],[1.0,\"#f0f921\"]]}],\"mesh3d\":[{\"type\":\"mesh3d\",\"colorbar\":{\"outlinewidth\":0,\"ticks\":\"\"}}],\"scatter\":[{\"fillpattern\":{\"fillmode\":\"overlay\",\"size\":10,\"solidity\":0.2},\"type\":\"scatter\"}],\"parcoords\":[{\"type\":\"parcoords\",\"line\":{\"colorbar\":{\"outlinewidth\":0,\"ticks\":\"\"}}}],\"scatterpolargl\":[{\"type\":\"scatterpolargl\",\"marker\":{\"colorbar\":{\"outlinewidth\":0,\"ticks\":\"\"}}}],\"bar\":[{\"error_x\":{\"color\":\"#2a3f5f\"},\"error_y\":{\"color\":\"#2a3f5f\"},\"marker\":{\"line\":{\"color\":\"#E5ECF6\",\"width\":0.5},\"pattern\":{\"fillmode\":\"overlay\",\"size\":10,\"solidity\":0.2}},\"type\":\"bar\"}],\"scattergeo\":[{\"type\":\"scattergeo\",\"marker\":{\"colorbar\":{\"outlinewidth\":0,\"ticks\":\"\"}}}],\"scatterpolar\":[{\"type\":\"scatterpolar\",\"marker\":{\"colorbar\":{\"outlinewidth\":0,\"ticks\":\"\"}}}],\"histogram\":[{\"marker\":{\"pattern\":{\"fillmode\":\"overlay\",\"size\":10,\"solidity\":0.2}},\"type\":\"histogram\"}],\"scattergl\":[{\"type\":\"scattergl\",\"marker\":{\"colorbar\":{\"outlinewidth\":0,\"ticks\":\"\"}}}],\"scatter3d\":[{\"type\":\"scatter3d\",\"line\":{\"colorbar\":{\"outlinewidth\":0,\"ticks\":\"\"}},\"marker\":{\"colorbar\":{\"outlinewidth\":0,\"ticks\":\"\"}}}],\"scattermapbox\":[{\"type\":\"scattermapbox\",\"marker\":{\"colorbar\":{\"outlinewidth\":0,\"ticks\":\"\"}}}],\"scatterternary\":[{\"type\":\"scatterternary\",\"marker\":{\"colorbar\":{\"outlinewidth\":0,\"ticks\":\"\"}}}],\"scattercarpet\":[{\"type\":\"scattercarpet\",\"marker\":{\"colorbar\":{\"outlinewidth\":0,\"ticks\":\"\"}}}],\"carpet\":[{\"aaxis\":{\"endlinecolor\":\"#2a3f5f\",\"gridcolor\":\"white\",\"linecolor\":\"white\",\"minorgridcolor\":\"white\",\"startlinecolor\":\"#2a3f5f\"},\"baxis\":{\"endlinecolor\":\"#2a3f5f\",\"gridcolor\":\"white\",\"linecolor\":\"white\",\"minorgridcolor\":\"white\",\"startlinecolor\":\"#2a3f5f\"},\"type\":\"carpet\"}],\"table\":[{\"cells\":{\"fill\":{\"color\":\"#EBF0F8\"},\"line\":{\"color\":\"white\"}},\"header\":{\"fill\":{\"color\":\"#C8D4E3\"},\"line\":{\"color\":\"white\"}},\"type\":\"table\"}],\"barpolar\":[{\"marker\":{\"line\":{\"color\":\"#E5ECF6\",\"width\":0.5},\"pattern\":{\"fillmode\":\"overlay\",\"size\":10,\"solidity\":0.2}},\"type\":\"barpolar\"}],\"pie\":[{\"automargin\":true,\"type\":\"pie\"}]},\"layout\":{\"autotypenumbers\":\"strict\",\"colorway\":[\"#636efa\",\"#EF553B\",\"#00cc96\",\"#ab63fa\",\"#FFA15A\",\"#19d3f3\",\"#FF6692\",\"#B6E880\",\"#FF97FF\",\"#FECB52\"],\"font\":{\"color\":\"#2a3f5f\"},\"hovermode\":\"closest\",\"hoverlabel\":{\"align\":\"left\"},\"paper_bgcolor\":\"white\",\"plot_bgcolor\":\"#E5ECF6\",\"polar\":{\"bgcolor\":\"#E5ECF6\",\"angularaxis\":{\"gridcolor\":\"white\",\"linecolor\":\"white\",\"ticks\":\"\"},\"radialaxis\":{\"gridcolor\":\"white\",\"linecolor\":\"white\",\"ticks\":\"\"}},\"ternary\":{\"bgcolor\":\"#E5ECF6\",\"aaxis\":{\"gridcolor\":\"white\",\"linecolor\":\"white\",\"ticks\":\"\"},\"baxis\":{\"gridcolor\":\"white\",\"linecolor\":\"white\",\"ticks\":\"\"},\"caxis\":{\"gridcolor\":\"white\",\"linecolor\":\"white\",\"ticks\":\"\"}},\"coloraxis\":{\"colorbar\":{\"outlinewidth\":0,\"ticks\":\"\"}},\"colorscale\":{\"sequential\":[[0.0,\"#0d0887\"],[0.1111111111111111,\"#46039f\"],[0.2222222222222222,\"#7201a8\"],[0.3333333333333333,\"#9c179e\"],[0.4444444444444444,\"#bd3786\"],[0.5555555555555556,\"#d8576b\"],[0.6666666666666666,\"#ed7953\"],[0.7777777777777778,\"#fb9f3a\"],[0.8888888888888888,\"#fdca26\"],[1.0,\"#f0f921\"]],\"sequentialminus\":[[0.0,\"#0d0887\"],[0.1111111111111111,\"#46039f\"],[0.2222222222222222,\"#7201a8\"],[0.3333333333333333,\"#9c179e\"],[0.4444444444444444,\"#bd3786\"],[0.5555555555555556,\"#d8576b\"],[0.6666666666666666,\"#ed7953\"],[0.7777777777777778,\"#fb9f3a\"],[0.8888888888888888,\"#fdca26\"],[1.0,\"#f0f921\"]],\"diverging\":[[0,\"#8e0152\"],[0.1,\"#c51b7d\"],[0.2,\"#de77ae\"],[0.3,\"#f1b6da\"],[0.4,\"#fde0ef\"],[0.5,\"#f7f7f7\"],[0.6,\"#e6f5d0\"],[0.7,\"#b8e186\"],[0.8,\"#7fbc41\"],[0.9,\"#4d9221\"],[1,\"#276419\"]]},\"xaxis\":{\"gridcolor\":\"white\",\"linecolor\":\"white\",\"ticks\":\"\",\"title\":{\"standoff\":15},\"zerolinecolor\":\"white\",\"automargin\":true,\"zerolinewidth\":2},\"yaxis\":{\"gridcolor\":\"white\",\"linecolor\":\"white\",\"ticks\":\"\",\"title\":{\"standoff\":15},\"zerolinecolor\":\"white\",\"automargin\":true,\"zerolinewidth\":2},\"scene\":{\"xaxis\":{\"backgroundcolor\":\"#E5ECF6\",\"gridcolor\":\"white\",\"linecolor\":\"white\",\"showbackground\":true,\"ticks\":\"\",\"zerolinecolor\":\"white\",\"gridwidth\":2},\"yaxis\":{\"backgroundcolor\":\"#E5ECF6\",\"gridcolor\":\"white\",\"linecolor\":\"white\",\"showbackground\":true,\"ticks\":\"\",\"zerolinecolor\":\"white\",\"gridwidth\":2},\"zaxis\":{\"backgroundcolor\":\"#E5ECF6\",\"gridcolor\":\"white\",\"linecolor\":\"white\",\"showbackground\":true,\"ticks\":\"\",\"zerolinecolor\":\"white\",\"gridwidth\":2}},\"shapedefaults\":{\"line\":{\"color\":\"#2a3f5f\"}},\"annotationdefaults\":{\"arrowcolor\":\"#2a3f5f\",\"arrowhead\":0,\"arrowwidth\":1},\"geo\":{\"bgcolor\":\"white\",\"landcolor\":\"#E5ECF6\",\"subunitcolor\":\"white\",\"showland\":true,\"showlakes\":true,\"lakecolor\":\"white\"},\"title\":{\"x\":0.05},\"mapbox\":{\"style\":\"light\"}}},\"xaxis\":{\"anchor\":\"y\",\"domain\":[0.0,1.0],\"title\":{\"text\":\"Stress Level\"}},\"yaxis\":{\"anchor\":\"x\",\"domain\":[0.0,1.0],\"title\":{\"text\":\"Quality of Sleep\"}},\"legend\":{\"tracegroupgap\":0},\"margin\":{\"t\":60}},                        {\"responsive\": true}                    ).then(function(){\n",
              "                            \n",
              "var gd = document.getElementById('c264b657-7d50-4740-a114-e4b020dbe897');\n",
              "var x = new MutationObserver(function (mutations, observer) {{\n",
              "        var display = window.getComputedStyle(gd).display;\n",
              "        if (!display || display === 'none') {{\n",
              "            console.log([gd, 'removed!']);\n",
              "            Plotly.purge(gd);\n",
              "            observer.disconnect();\n",
              "        }}\n",
              "}});\n",
              "\n",
              "// Listen for the removal of the full notebook cells\n",
              "var notebookContainer = gd.closest('#notebook-container');\n",
              "if (notebookContainer) {{\n",
              "    x.observe(notebookContainer, {childList: true});\n",
              "}}\n",
              "\n",
              "// Listen for the clearing of the current output cell\n",
              "var outputEl = gd.closest('.output');\n",
              "if (outputEl) {{\n",
              "    x.observe(outputEl, {childList: true});\n",
              "}}\n",
              "\n",
              "                        })                };                            </script>        </div>\n",
              "</body>\n",
              "</html>"
            ]
          },
          "metadata": {}
        }
      ]
    }
  ]
}